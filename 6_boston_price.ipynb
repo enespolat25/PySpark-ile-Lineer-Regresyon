{
 "cells": [
  {
   "cell_type": "markdown",
   "metadata": {},
   "source": [
    "# ** PySpark ile Lineer Regresyon **\n",
    "\n",
    "## Gerekli Kütüphaneler"
   ]
  },
  {
   "cell_type": "code",
   "execution_count": 1,
   "metadata": {},
   "outputs": [],
   "source": [
    "import findspark\n",
    "findspark.init()\n",
    "from pyspark.sql import SparkSession\n",
    "spark = SparkSession.builder.master(\"local[*]\").getOrCreate()"
   ]
  },
  {
   "cell_type": "code",
   "execution_count": 2,
   "metadata": {},
   "outputs": [],
   "source": [
    "from pyspark.ml.feature import VectorAssembler\n",
    "from pyspark.ml.regression import LinearRegression\n",
    "dataset = spark.read.csv('BostonHousing.csv',inferSchema=True, header =True)"
   ]
  },
  {
   "cell_type": "code",
   "execution_count": 3,
   "metadata": {},
   "outputs": [
    {
     "name": "stdout",
     "output_type": "stream",
     "text": [
      "root\n",
      " |-- crim: double (nullable = true)\n",
      " |-- zn: double (nullable = true)\n",
      " |-- indus: double (nullable = true)\n",
      " |-- chas: integer (nullable = true)\n",
      " |-- nox: double (nullable = true)\n",
      " |-- rm: double (nullable = true)\n",
      " |-- age: double (nullable = true)\n",
      " |-- dis: double (nullable = true)\n",
      " |-- rad: integer (nullable = true)\n",
      " |-- tax: integer (nullable = true)\n",
      " |-- ptratio: double (nullable = true)\n",
      " |-- b: double (nullable = true)\n",
      " |-- lstat: double (nullable = true)\n",
      " |-- medv: double (nullable = true)\n",
      "\n"
     ]
    }
   ],
   "source": [
    "dataset.printSchema()"
   ]
  },
  {
   "cell_type": "code",
   "execution_count": 4,
   "metadata": {},
   "outputs": [
    {
     "name": "stdout",
     "output_type": "stream",
     "text": [
      "+--------------------+----+\n",
      "|          Attributes|medv|\n",
      "+--------------------+----+\n",
      "|[0.00632,18.0,2.3...|24.0|\n",
      "|[0.02731,0.0,7.07...|21.6|\n",
      "|[0.02729,0.0,7.07...|34.7|\n",
      "|[0.03237,0.0,2.18...|33.4|\n",
      "|[0.06905,0.0,2.18...|36.2|\n",
      "|[0.02985,0.0,2.18...|28.7|\n",
      "|[0.08829,12.5,7.8...|22.9|\n",
      "|[0.14455,12.5,7.8...|27.1|\n",
      "|[0.21124,12.5,7.8...|16.5|\n",
      "|[0.17004,12.5,7.8...|18.9|\n",
      "|[0.22489,12.5,7.8...|15.0|\n",
      "|[0.11747,12.5,7.8...|18.9|\n",
      "|[0.09378,12.5,7.8...|21.7|\n",
      "|[0.62976,0.0,8.14...|20.4|\n",
      "|[0.63796,0.0,8.14...|18.2|\n",
      "|[0.62739,0.0,8.14...|19.9|\n",
      "|[1.05393,0.0,8.14...|23.1|\n",
      "|[0.7842,0.0,8.14,...|17.5|\n",
      "|[0.80271,0.0,8.14...|20.2|\n",
      "|[0.7258,0.0,8.14,...|18.2|\n",
      "+--------------------+----+\n",
      "only showing top 20 rows\n",
      "\n"
     ]
    }
   ],
   "source": [
    "#Input all the features in one vector column\n",
    "assembler = VectorAssembler(inputCols=['crim', 'zn', 'indus', 'chas', 'nox', 'rm', 'age', 'dis', 'rad', 'tax', 'ptratio', 'b', 'lstat'], outputCol = 'Attributes')\n",
    "output = assembler.transform(dataset)\n",
    "#Input vs Output\n",
    "finalized_data = output.select(\"Attributes\",\"medv\")\n",
    "finalized_data.show()"
   ]
  },
  {
   "cell_type": "markdown",
   "metadata": {},
   "source": [
    "### Verimizi train-test %80-/%20  olarak bölüp lineer regresyonu uygulayalım "
   ]
  },
  {
   "cell_type": "code",
   "execution_count": 5,
   "metadata": {},
   "outputs": [
    {
     "name": "stdout",
     "output_type": "stream",
     "text": [
      "+--------------------+----+------------------+\n",
      "|          Attributes|medv|        prediction|\n",
      "+--------------------+----+------------------+\n",
      "|[0.01381,80.0,0.4...|50.0|41.087749356547604|\n",
      "|[0.01439,60.0,2.9...|29.1| 31.53021045127438|\n",
      "|[0.01965,80.0,1.7...|20.1|20.162344681278622|\n",
      "|[0.02543,55.0,3.7...|23.9|27.833605697448494|\n",
      "|[0.02731,0.0,7.07...|21.6|24.714295168027167|\n",
      "|[0.03615,80.0,4.9...|27.9| 32.39602620970229|\n",
      "|[0.03768,80.0,1.5...|34.6|34.444274961423915|\n",
      "|[0.04011,80.0,1.5...|33.3| 35.88609237452471|\n",
      "|[0.0459,52.5,5.32...|22.3|27.141284279505932|\n",
      "|[0.04666,80.0,1.5...|30.3|32.363110281095906|\n",
      "|[0.05023,35.0,6.0...|17.1|19.798878044844606|\n",
      "|[0.05083,0.0,5.19...|22.2| 22.36393094937121|\n",
      "|[0.05515,33.0,2.1...|36.1|33.718060131619254|\n",
      "|[0.05735,0.0,4.49...|26.6| 27.75243568091222|\n",
      "|[0.06127,40.0,6.4...|33.1|  35.4076807492924|\n",
      "|[0.06211,40.0,1.2...|22.9|20.454348248314652|\n",
      "|[0.06911,45.0,3.4...|30.5| 30.16427864855687|\n",
      "|[0.07503,33.0,2.1...|33.4| 35.96323486331119|\n",
      "|[0.07896,0.0,12.8...|24.1| 25.57609411382691|\n",
      "|[0.08387,0.0,12.8...|20.3|  22.2710066325829|\n",
      "+--------------------+----+------------------+\n",
      "only showing top 20 rows\n",
      "\n"
     ]
    }
   ],
   "source": [
    "#Split training and testing data\n",
    "train_data,test_data = finalized_data.randomSplit([0.8,0.2])\n",
    "regressor = LinearRegression(featuresCol = 'Attributes', labelCol = 'medv')\n",
    "#Learn to fit the model from training set\n",
    "regressor = regressor.fit(train_data)\n",
    "#To predict the prices on testing set\n",
    "pred = regressor.evaluate(test_data)\n",
    "#Predict the model\n",
    "pred.predictions.show()"
   ]
  },
  {
   "cell_type": "code",
   "execution_count": 6,
   "metadata": {},
   "outputs": [
    {
     "name": "stdout",
     "output_type": "stream",
     "text": [
      "The coefficient of the model is : DenseVector([-0.1121, 0.0514, 0.0069, 3.0204, -16.5758, 3.9326, -0.0052, -1.5281, 0.3376, -0.0131, -0.8589, 0.0105, -0.5196])\n",
      "The Intercept of the model is : 33.541287\n"
     ]
    }
   ],
   "source": [
    "#coefficient of the regression model\n",
    "coeff = regressor.coefficients\n",
    "#X and Y intercept\n",
    "intr = regressor.intercept\n",
    "print (\"The coefficient of the model is : %a\" %coeff)\n",
    "print (\"The Intercept of the model is : %f\" %intr)"
   ]
  },
  {
   "cell_type": "markdown",
   "metadata": {},
   "source": [
    "# Metrikler"
   ]
  },
  {
   "cell_type": "code",
   "execution_count": 7,
   "metadata": {},
   "outputs": [
    {
     "name": "stdout",
     "output_type": "stream",
     "text": [
      "RMSE: 4.366\n",
      "MSE: 19.064\n",
      "MAE: 3.381\n",
      "r2: 0.759\n"
     ]
    }
   ],
   "source": [
    "from pyspark.ml.evaluation import RegressionEvaluator\n",
    "eval = RegressionEvaluator(labelCol=\"medv\", predictionCol=\"prediction\", metricName=\"rmse\")\n",
    "# Root Mean Square Error\n",
    "rmse = eval.evaluate(pred.predictions)\n",
    "print(\"RMSE: %.3f\" % rmse)\n",
    "# Mean Square Error\n",
    "mse = eval.evaluate(pred.predictions, {eval.metricName: \"mse\"})\n",
    "print(\"MSE: %.3f\" % mse)\n",
    "# Mean Absolute Error\n",
    "mae = eval.evaluate(pred.predictions, {eval.metricName: \"mae\"})\n",
    "print(\"MAE: %.3f\" % mae)\n",
    "# r2 - coefficient of determination\n",
    "r2 = eval.evaluate(pred.predictions, {eval.metricName: \"r2\"})\n",
    "print(\"r2: %.3f\" %r2)"
   ]
  },
  {
   "cell_type": "markdown",
   "metadata": {},
   "source": [
    "# Faydalı olması dileğiyle"
   ]
  }
 ],
 "metadata": {
  "kernelspec": {
   "display_name": "Python 3",
   "language": "python",
   "name": "python3"
  },
  "language_info": {
   "codemirror_mode": {
    "name": "ipython",
    "version": 3
   },
   "file_extension": ".py",
   "mimetype": "text/x-python",
   "name": "python",
   "nbconvert_exporter": "python",
   "pygments_lexer": "ipython3",
   "version": "3.6.8"
  }
 },
 "nbformat": 4,
 "nbformat_minor": 2
}
